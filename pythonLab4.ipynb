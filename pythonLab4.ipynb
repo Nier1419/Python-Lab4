{
 "cells": [
  {
   "cell_type": "code",
   "execution_count": 19,
   "id": "cc32a622",
   "metadata": {},
   "outputs": [
    {
     "name": "stdout",
     "output_type": "stream",
     "text": [
      "Enter a number: ty\n",
      "please enter a number.\n",
      "Enter a number: $%\n",
      "please enter a number.\n",
      "Enter a number: 5\n",
      "5 4 3 2 1\n",
      "4 3 2 1\n",
      "3 2 1\n",
      "2 1\n",
      "1\n"
     ]
    }
   ],
   "source": [
    "\"\"\"\n",
    "Create a function that takes one parameter of type int, then it prints out the result formatted like the following pattern (if we give it 5 for example):\n",
    "5 4 3 2 1\n",
    "4 3 2 1\n",
    "3 2 1\n",
    "2 1\n",
    "1\n",
    "\"\"\"\n",
    "#the function grabbing the users entered number\n",
    "def ParameterToPyramid(number):\n",
    "    #gave the value to the eneterd number to another variable\n",
    "    decreasingNum=number\n",
    "    #while loop to keep decreasing the inputted number until it reaches 0\n",
    "    while decreasingNum > 0:\n",
    "        #l is a list of incremented numbers that stops at the number entered by the user\n",
    "        l=list(range(1,decreasingNum+1))\n",
    "        #print the list elements as numbers in reverse\n",
    "        print(*reversed(l))\n",
    "        #decreasing the user inputted number until it reaches 0\n",
    "        decreasingNum-=1\n",
    "#grab the users input        \n",
    "userNumber=input(\"Enter a number: \")\n",
    "#loop that checks if the user entered a string or symbol instead\n",
    "while userNumber.isdigit() == False:\n",
    "    print(\"please enter a number.\")\n",
    "    #if the user did not enter a number they will get a prompt telling them to enter a number\n",
    "    userNumber=input(\"Enter a number: \")\n",
    "#calling the function\n",
    "ParameterToPyramid(int(userNumber))"
   ]
  },
  {
   "cell_type": "code",
   "execution_count": null,
   "id": "8679f467",
   "metadata": {},
   "outputs": [],
   "source": []
  },
  {
   "cell_type": "code",
   "execution_count": null,
   "id": "c2843de6",
   "metadata": {},
   "outputs": [],
   "source": []
  }
 ],
 "metadata": {
  "kernelspec": {
   "display_name": "Python 3 (ipykernel)",
   "language": "python",
   "name": "python3"
  },
  "language_info": {
   "codemirror_mode": {
    "name": "ipython",
    "version": 3
   },
   "file_extension": ".py",
   "mimetype": "text/x-python",
   "name": "python",
   "nbconvert_exporter": "python",
   "pygments_lexer": "ipython3",
   "version": "3.9.12"
  }
 },
 "nbformat": 4,
 "nbformat_minor": 5
}
